{
 "cells": [
  {
   "cell_type": "markdown",
   "metadata": {},
   "source": [
    "# Assignment 1 : Practice Questions on Python"
   ]
  },
  {
   "cell_type": "markdown",
   "metadata": {},
   "source": [
    "### Problem 1 : Write a function that inputs a number and prints the multiplication table of that number"
   ]
  },
  {
   "cell_type": "code",
   "execution_count": 1,
   "metadata": {},
   "outputs": [
    {
     "name": "stdout",
     "output_type": "stream",
     "text": [
      "Enter a number ?5\n",
      "5\n",
      "10\n",
      "15\n",
      "20\n",
      "25\n",
      "30\n",
      "35\n",
      "40\n",
      "45\n",
      "50\n"
     ]
    }
   ],
   "source": [
    "def multiplicationTable():\n",
    "    x = int(input('Enter a number ?'))\n",
    "    for i in range(1,11) :\n",
    "        ans = i * x\n",
    "        print(ans)\n",
    "    \n",
    "multiplicationTable()"
   ]
  },
  {
   "cell_type": "markdown",
   "metadata": {},
   "source": [
    "### Problem 2 : Write a program to print twin primes less than 1000. If two consecutive odd numbers are both prime then they are known as twin primes"
   ]
  },
  {
   "cell_type": "code",
   "execution_count": 2,
   "metadata": {},
   "outputs": [
    {
     "name": "stdout",
     "output_type": "stream",
     "text": [
      "3 5\n",
      "5 7\n",
      "7 9\n",
      "9 11\n",
      "11 13\n",
      "13 15\n",
      "15 17\n",
      "17 19\n",
      "23 25\n",
      "29 31\n",
      "35 37\n",
      "41 43\n",
      "47 49\n",
      "59 61\n",
      "71 73\n",
      "101 103\n",
      "107 109\n",
      "137 139\n",
      "149 151\n",
      "167 169\n",
      "179 181\n",
      "191 193\n",
      "197 199\n",
      "227 229\n",
      "239 241\n",
      "269 271\n",
      "281 283\n",
      "311 313\n",
      "347 349\n",
      "359 361\n",
      "419 421\n",
      "431 433\n",
      "461 463\n",
      "521 523\n",
      "569 571\n",
      "599 601\n",
      "617 619\n",
      "641 643\n",
      "659 661\n",
      "809 811\n",
      "821 823\n",
      "827 829\n",
      "839 841\n",
      "857 859\n",
      "881 883\n"
     ]
    }
   ],
   "source": [
    "import math\n",
    "import math\n",
    "def checkPrime(x):\n",
    "    # we are checking upto square root of x  to reduce number of iterations\n",
    "    for i in range(2,math.floor(math.sqrt(x))):\n",
    "        if x % i == 0:\n",
    "            return False\n",
    "    return True\n",
    "    \n",
    "def printTwinPrimes():\n",
    "    i = 3\n",
    "    while i <= 1000:\n",
    "        if checkPrime(i) == True and checkPrime(i+2) == True:\n",
    "            print(i,i+2)\n",
    "        i += 2\n",
    "        \n",
    "printTwinPrimes()\n",
    "            "
   ]
  },
  {
   "cell_type": "markdown",
   "metadata": {},
   "source": [
    "### Problem 3 : Write a program to find out the prime factors of a number."
   ]
  },
  {
   "cell_type": "code",
   "execution_count": 20,
   "metadata": {},
   "outputs": [
    {
     "name": "stdout",
     "output_type": "stream",
     "text": [
      "13\n"
     ]
    }
   ],
   "source": [
    "import math\n",
    "def primeFactors(x):\n",
    "    #part 1\n",
    "    # Print the number of 2s that divide x\n",
    "    while x % 2 == 0:\n",
    "        print(2)\n",
    "        x //= 2\n",
    "        \n",
    "    #part 2\n",
    "    # As n is now odd we only check for odd numbers form now on.\n",
    "    i = 3\n",
    "    while i <= math.floor(math.sqrt(x)):\n",
    "        while x % i == 0:\n",
    "            print(i)\n",
    "            x = x // i\n",
    "        i += 2\n",
    "        \n",
    "    #part 3\n",
    "    # If x is a prime number this code will handle it as part 2 only chekcs upto square root of x\n",
    "    if x > 2:\n",
    "        print(x)\n",
    "        \n",
    "primeFactors(13)    "
   ]
  },
  {
   "cell_type": "markdown",
   "metadata": {},
   "source": [
    "### Problem 4: Write a program to implement these formulae of permutations and combinations"
   ]
  },
  {
   "cell_type": "code",
   "execution_count": 7,
   "metadata": {},
   "outputs": [
    {
     "name": "stdout",
     "output_type": "stream",
     "text": [
      "60\n",
      "35\n"
     ]
    }
   ],
   "source": [
    "import math\n",
    "def permutation(n,r):\n",
    "    ans = math.factorial(n) // math.factorial(n-r)\n",
    "    return ans\n",
    "    \n",
    "def combination(n,r):\n",
    "    ans = permutation(n,r) // math.factorial(r)\n",
    "    return ans\n",
    "    \n",
    "print(permutation(5,3))\n",
    "print(combination(7,4))"
   ]
  },
  {
   "cell_type": "markdown",
   "metadata": {},
   "source": [
    "### Problem 5: Write a function that converts a decimal number to binary number"
   ]
  },
  {
   "cell_type": "code",
   "execution_count": 6,
   "metadata": {},
   "outputs": [
    {
     "name": "stdout",
     "output_type": "stream",
     "text": [
      "0000000000000000000000000000000000000000000000000000001000001001\n"
     ]
    }
   ],
   "source": [
    "def decToBin(n):\n",
    "    # we use shift operators here\n",
    "    # If we right shift the given number we get the last bit then print 1 or 0 accordingly\n",
    "    # assume int size is 64bits\n",
    "    # returns the converted binary number as a string\n",
    "    ans = ''\n",
    "    for i in range(1,65):\n",
    "        x = n >> 64 - i\n",
    "        ans = ans + str(x & 1)\n",
    "    return ans\n",
    "\n",
    "        \n",
    "print(decToBin(521))"
   ]
  },
  {
   "cell_type": "markdown",
   "metadata": {},
   "source": [
    "### Problem 6 : Write a function cubesum() that accepts an integer and returns the sum of the cubes of individual digits of that number. Use this function to make functions PrintArmstrong() and isArmstrong() to print Armstrong numbers and to find whether is an Armstrong number."
   ]
  },
  {
   "cell_type": "code",
   "execution_count": 5,
   "metadata": {},
   "outputs": [
    {
     "name": "stdout",
     "output_type": "stream",
     "text": [
      "36\n",
      "1\n",
      "153\n",
      "370\n",
      "371\n",
      "407\n"
     ]
    }
   ],
   "source": [
    "def cubeSum(x):\n",
    "    # we are doing x modulo 10 to get its last digit and then integer divide by 10 to make a right shift in decimal form\n",
    "    sum = 0\n",
    "    while x > 0 :\n",
    "        d = x % 10\n",
    "        sum += d ** 3\n",
    "        x = x // 10\n",
    "    return sum\n",
    "\n",
    "print(cubeSum(123))\n",
    "\n",
    "def isArmstrong(x):\n",
    "    return cubeSum(x) == x\n",
    "\n",
    "def PrintArmstrong(n):\n",
    "    for i in range(1,n+1):\n",
    "        if isArmstrong(i):\n",
    "            print(i)\n",
    "            \n",
    "PrintArmstrong(1000)\n",
    "    "
   ]
  },
  {
   "cell_type": "markdown",
   "metadata": {},
   "source": [
    "### Problem 7 : Write a function prodDigits() that inputs a number and returns the product of digits of that number."
   ]
  },
  {
   "cell_type": "code",
   "execution_count": 13,
   "metadata": {},
   "outputs": [
    {
     "name": "stdout",
     "output_type": "stream",
     "text": [
      "Enter a number: 123\n",
      "6\n"
     ]
    }
   ],
   "source": [
    "def prodDigits(x):\n",
    "    prod = 1\n",
    "    while x > 0 :\n",
    "        d = x % 10\n",
    "        prod *= d\n",
    "        x = x // 10\n",
    "    return prod\n",
    "\n",
    "x = int(input('Enter a number: '))\n",
    "print(prodDigits(x))\n",
    "    "
   ]
  },
  {
   "cell_type": "markdown",
   "metadata": {},
   "source": [
    "### Problem 8 : Finding Multiplicative Digital Root and Persistance"
   ]
  },
  {
   "cell_type": "code",
   "execution_count": 19,
   "metadata": {},
   "outputs": [
    {
     "name": "stdout",
     "output_type": "stream",
     "text": [
      "6\n",
      "3\n"
     ]
    }
   ],
   "source": [
    "# Has a dependency on problem 7 run problem 7 first\n",
    "\n",
    "def MDRP(x):\n",
    "    i = 0\n",
    "    # to check if the product has reached to a one digit number we use modulo 10\n",
    "    while x % 10 != x :\n",
    "        x = prodDigits(x)\n",
    "        i = i + 1\n",
    "    return (x,i)\n",
    "\n",
    "\n",
    "def MDR(x):\n",
    "    ans = MDRP(x)\n",
    "    return ans[0]\n",
    "\n",
    "def MPersistence(x):\n",
    "    ans = MDRP(x)\n",
    "    return ans[1]\n",
    "\n",
    "print(MDR(86))\n",
    "print(MPersistence(86))"
   ]
  },
  {
   "cell_type": "markdown",
   "metadata": {},
   "source": [
    "### Problem 9 : Write a function sumPdivisors() that finds the sum of proper divisors of a number."
   ]
  },
  {
   "cell_type": "code",
   "execution_count": 35,
   "metadata": {},
   "outputs": [
    {
     "name": "stdout",
     "output_type": "stream",
     "text": [
      "6\n"
     ]
    }
   ],
   "source": [
    "def sumPdivisors(x):\n",
    "    sum = 0\n",
    "    for i in range(1,x):\n",
    "        if x % i == 0:\n",
    "            sum += i\n",
    "    return sum\n",
    "            \n",
    "print(sumPdivisors(6))"
   ]
  },
  {
   "cell_type": "markdown",
   "metadata": {},
   "source": [
    "### Problem 10 : Write a program to print all the perfect numbers in a given range"
   ]
  },
  {
   "cell_type": "code",
   "execution_count": 37,
   "metadata": {},
   "outputs": [
    {
     "name": "stdout",
     "output_type": "stream",
     "text": [
      "6\n",
      "28\n"
     ]
    }
   ],
   "source": [
    "# has a dependency on problem 9\n",
    "def printPerfectNumbers(x):\n",
    "    for i in range(1,x+1):\n",
    "        sumation = sumPdivisors(i)\n",
    "        if i == sumation:\n",
    "            print(i)\n",
    "            \n",
    "printPerfectNumbers(100)"
   ]
  },
  {
   "cell_type": "markdown",
   "metadata": {},
   "source": []
  }
 ],
 "metadata": {
  "kernelspec": {
   "display_name": "Python 3",
   "language": "python",
   "name": "python3"
  },
  "language_info": {
   "codemirror_mode": {
    "name": "ipython",
    "version": 3
   },
   "file_extension": ".py",
   "mimetype": "text/x-python",
   "name": "python",
   "nbconvert_exporter": "python",
   "pygments_lexer": "ipython3",
   "version": "3.7.1"
  }
 },
 "nbformat": 4,
 "nbformat_minor": 2
}
